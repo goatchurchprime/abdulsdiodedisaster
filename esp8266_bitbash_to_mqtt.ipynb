{
 "cells": [
  {
   "cell_type": "code",
   "execution_count": 30,
   "metadata": {},
   "outputs": [
    {
     "name": "stdout",
     "output_type": "stream",
     "text": [
      "\u001b[31m\n",
      "\n",
      "***Connection broken [Input/output error]\n",
      "\u001b[0mYou may need to reconnect\u001b[34m\n",
      "Closing serial Serial<id=0x7f6fa0761a90, open=True>(port='/dev/ttyUSB1', baudrate=115200, bytesize=8, parity='N', stopbits=1, timeout=0.5, xonxoff=False, rtscts=False, dsrdtr=False)\n",
      "\u001b[0m\u001b[34mExecuting:\n",
      "  esptool.py --port /dev/ttyUSB0 erase_flash\n",
      "\n",
      "\u001b[0mesptool.py v2.8\n",
      "Serial port /dev/ttyUSB0\n",
      "Connecting....\n",
      "\u001b[34m[Press the PRG button now if required]\n",
      "\u001b[0mDetecting chip type... ESP8266\n",
      "Chip is ESP8266EX\n",
      "Features: WiFi\n",
      "Crystal is 26MHz\n",
      "MAC: 2c:3a:e8:0f:26:3f\n",
      "Uploading stub...\n",
      "Running stub...\n",
      "Stub running...\n",
      "Erasing flash (this may take a while)...\n",
      "Chip erase completed successfully in 7.2s\n",
      "Hard resetting via RTS pin...\n"
     ]
    }
   ],
   "source": [
    "%esptool erase"
   ]
  },
  {
   "cell_type": "code",
   "execution_count": 39,
   "metadata": {},
   "outputs": [
    {
     "name": "stdout",
     "output_type": "stream",
     "text": [
      "\u001b[31m\n",
      "\n",
      "***Connection broken [Input/output error]\n",
      "\u001b[0mYou may need to reconnect\u001b[34m\n",
      "Closing serial Serial<id=0x7f6fa0766990, open=True>(port='/dev/ttyUSB1', baudrate=115200, bytesize=8, parity='N', stopbits=1, timeout=0.5, xonxoff=False, rtscts=False, dsrdtr=False)\n",
      "\u001b[0m\u001b[34mExecuting:\n",
      "  esptool.py --port /dev/ttyUSB0 --baud 460800 write_flash --flash_size=detect -fm dio 0 /home/julian/extrepositories/micropython/ports/esp8266/build-GENERIC/firmware-combined.bin\n",
      "\n",
      "\u001b[0mesptool.py v2.8\n",
      "Serial port /dev/ttyUSB0\n",
      "Connecting....\n",
      "\u001b[34m[Press the PRG button now if required]\n",
      "\u001b[0mDetecting chip type... ESP8266\n",
      "Chip is ESP8266EX\n",
      "Features: WiFi\n",
      "Crystal is 26MHz\n",
      "MAC: 2c:3a:e8:0f:26:3f\n",
      "Uploading stub...\n",
      "Running stub...\n",
      "Stub running...\n",
      "Changing baud rate to 460800\n",
      "Changed.\n",
      "Configuring flash size...\n",
      "Auto-detected Flash size: 4MB\n",
      "Flash params set to 0x0240\n",
      "Compressed 640052 bytes to 420021...\n",
      "Wrote 640052 bytes (420021 compressed) at 0x00000000 in 9.6 seconds (effective 531.1 kbit/s)...\n",
      "Hash of data verified.\n",
      "\n",
      "Leaving...\n",
      "Hard resetting via RTS pin...\n"
     ]
    }
   ],
   "source": [
    "#%esptool esp8266 bin/firmware-combined.bin\n",
    "#%esptool esp8266 /home/julian/executables/micropythonbins/esp8266-20200815-unstable-v1.12-665-g60f5b941e.bin\n",
    "#%esptool esp8266 /home/julian/extrepositories/micropython-fork/ports/esp8266/build-GENERIC/firmware-combined.bin\n",
    "%esptool esp8266 /home/julian/extrepositories/micropython/ports/esp8266/build-GENERIC/firmware-combined.bin\n",
    "\n"
   ]
  },
  {
   "cell_type": "code",
   "execution_count": 41,
   "metadata": {},
   "outputs": [
    {
     "name": "stdout",
     "output_type": "stream",
     "text": [
      "\u001b[34mConnecting to --port=/dev/ttyUSB0 --baud=115200 \u001b[0m\n",
      "\u001b[34mReady.\n",
      "\u001b[0m__main__          lwip              uasyncio/funcs    upip_utarfile\n",
      "_boot             machine           uasyncio/lock     urandom\n",
      "_onewire          math              uasyncio/stream   ure\n",
      "_uasyncio         micropython       ubinascii         uselect\n",
      "_webrepl          mqtt_as           ucollections      usocket\n",
      "apa102            mqtt_as_timeout   ucryptolib        ussl\n",
      "btree             neopixel          uctypes           ustruct\n",
      "builtins          network           uerrno            utime\n",
      "dht               ntptime           uhashlib          utimeq\n",
      "ds18x20           onewire           uheapq            uwebsocket\n",
      "esp               port_diag         uio               uzlib\n",
      "flashbdev         sys               ujson             webrepl\n",
      "framebuf          uarray            umqtt/robust      webrepl_setup\n",
      "gc                uasyncio/__init__ umqtt/simple      websocket_helper\n",
      "inisetup          uasyncio/core     uos\n",
      "lighthttpserve_funcs                uasyncio/event    upip\n",
      "Plus any modules on the filesystem\n"
     ]
    }
   ],
   "source": [
    "%serialconnect\n",
    "help(\"modules\")"
   ]
  },
  {
   "cell_type": "code",
   "execution_count": 40,
   "metadata": {},
   "outputs": [
    {
     "name": "stdout",
     "output_type": "stream",
     "text": [
      "\u001b[31mNo serial connected\n",
      "\u001b[0m  %serialconnect to connect\n",
      "  %esptool to flash the device\n",
      "  %lsmagic to list commands"
     ]
    }
   ],
   "source": [
    "help(\"modules\")"
   ]
  },
  {
   "cell_type": "code",
   "execution_count": 14,
   "metadata": {},
   "outputs": [
    {
     "name": "stdout",
     "output_type": "stream",
     "text": [
      "\u001b[34mConnecting to --port=/dev/ttyUSB0 --baud=115200 \u001b[0m\n",
      "import network\n",
      ">>> \n",
      ">>> \u001b[32mThis is the ESP8266's hotspot name\u001b[0m'MicroPython-{:02x}{:02x}{:02x}'.format(*network.WLAN().config('mac')[-3:])\n",
      "'MicroPython-0f263f'\n",
      ">>> \n",
      ">>> \n",
      "MPY: soft reboot\n",
      "MicroPython v1.11-623-gd61e7a6d8-dirty on 2019-12-05; ESP module with ESP8266\n",
      "Type \"help()\" for more information.\n",
      ">>> import webrepl_setup\n",
      "WebREPL daemon auto-start status: disabled\n",
      "\n",
      "Would you like to (E)nable or (D)isable it running on boot?\n",
      "(Empty line to quit)\n",
      "> E\n",
      "To enable WebREPL, you must set password for it\n",
      "New password (4-9 chars): wpass\n",
      "Confirm password: wpass\n",
      "\u001b[34m\n",
      "Closing serial Serial<id=0x7f6fa17cc950, open=True>(port='/dev/ttyUSB0', baudrate=115200, bytesize=8, parity='N', stopbits=1, timeout=0.5, xonxoff=False, rtscts=False, dsrdtr=False)\n",
      "\u001b[0m"
     ]
    }
   ],
   "source": [
    "# Setting up the webrepl hotspot with password=wpass\n",
    "%serialconnect --raw\n",
    "%readbytes \n",
    "\n",
    "# Print out the hotspot name (while we are here)\n",
    "%writebytes \"import network\\r\\n\"\n",
    "%readbytes\n",
    "%writebytes \"\\r\\n\"\n",
    "%readbytes\n",
    "%writebytes \"'MicroPython-{:02x}{:02x}{:02x}'.format(*network.WLAN().config('mac')[-3:])\\r\\n\"\n",
    "%comment \"This is the ESP8266's hotspot name\"\n",
    "%readbytes\n",
    "%writebytes \"\\r\\n\"\n",
    "%readbytes\n",
    "\n",
    "# soft reset so import works\n",
    "%writebytes \"\\x04\"\n",
    "%readbytes\n",
    "%writebytes \"import webrepl_setup\\r\\n\"\n",
    "%readbytes \n",
    "%writebytes \"E\\r\\n\"\n",
    "%readbytes\n",
    "\n",
    "# uncomment if second time (with additional question of changing password)\n",
    "#%writebytes \"y\\r\\n\"\n",
    "#%readbytes\n",
    "\n",
    "# set the password\n",
    "%writebytes \"wpass\\r\\n\"\n",
    "%readbytes\n",
    "%writebytes \"wpass\\r\\n\"\n",
    "%readbytes\n",
    "\n",
    "#%writebytes \"y\\r\\n\"\n",
    "#%readbytes\n",
    "\n",
    "%writebytes \"\\x04\"\n",
    "%readbytes\n",
    "%disconnect --raw"
   ]
  },
  {
   "cell_type": "code",
   "execution_count": 15,
   "metadata": {},
   "outputs": [
    {
     "name": "stdout",
     "output_type": "stream",
     "text": [
      "\u001b[34mConnecting to --port=/dev/ttyUSB0 --baud=115200 \u001b[0m\n",
      "\u001b[34mReady.\n",
      "\u001b[0m"
     ]
    }
   ],
   "source": [
    "%serialconnect"
   ]
  },
  {
   "cell_type": "code",
   "execution_count": 42,
   "metadata": {},
   "outputs": [
    {
     "name": "stdout",
     "output_type": "stream",
     "text": [
      "Sent 6 lines (131 bytes) to config.txt.\n"
     ]
    }
   ],
   "source": [
    "%sendtofile config.txt\n",
    "\n",
    "wifiname     DoESLiverpool\n",
    "wifipassword decafbad00\n",
    "mqttbroker   sensorcity.io\n",
    "pinled       2\n",
    "boardname    abdushop9\n",
    "pinbitbashin 13"
   ]
  },
  {
   "cell_type": "code",
   "execution_count": 9,
   "metadata": {},
   "outputs": [
    {
     "name": "stdout",
     "output_type": "stream",
     "text": [
      "Sent 6 lines (124 bytes) to config.txt.\n"
     ]
    }
   ],
   "source": [
    "%sendtofile config.txt\n",
    "\n",
    "wifiname     JulianS9\n",
    "wifipassword beckaaaa\n",
    "mqttbroker   sensorcity.io\n",
    "pinled       2\n",
    "boardname    abdushop9\n",
    "pinbitbashin 13"
   ]
  },
  {
   "cell_type": "code",
   "execution_count": 59,
   "metadata": {},
   "outputs": [
    {
     "name": "stdout",
     "output_type": "stream",
     "text": [
      "serial exception on close write failed: [Errno 5] Input/output error\n",
      "\u001b[34mConnecting to --port=/dev/ttyUSB0 --baud=115200 \u001b[0m\n",
      "\u001b[34mReady.\n",
      "\u001b[0m"
     ]
    }
   ],
   "source": [
    "%serialconnect"
   ]
  },
  {
   "cell_type": "code",
   "execution_count": 29,
   "metadata": {},
   "outputs": [
    {
     "name": "stdout",
     "output_type": "stream",
     "text": [
      "Sent 646 lines (23109 bytes) to mqtt_as.py.\n"
     ]
    }
   ],
   "source": [
    "# too big.  Must be compiled into firmware\n",
    "# %sendtofile --source /home/julian/extrepositories/micropython-mqtt/mqtt_as/mqtt_as.py\n"
   ]
  },
  {
   "cell_type": "code",
   "execution_count": 43,
   "metadata": {},
   "outputs": [
    {
     "name": "stdout",
     "output_type": "stream",
     "text": [
      "Sent 31 lines (1106 bytes) to stdmqttas.py.\n",
      "Sent 32 lines (999 bytes) to utils.py.\n"
     ]
    }
   ],
   "source": [
    "%sendtofile --source stdmqttas.py\n",
    "%sendtofile --quiet --source utils.py\n",
    "\n"
   ]
  },
  {
   "cell_type": "code",
   "execution_count": 60,
   "metadata": {},
   "outputs": [
    {
     "name": "stdout",
     "output_type": "stream",
     "text": [
      "Sent 68 lines (2290 bytes) to main.py.\n"
     ]
    }
   ],
   "source": [
    "%sendtofile main.py\n",
    "\n",
    "import time, network\n",
    "network.WLAN().active(0)\n",
    "\n",
    "from machine import Pin, time_pulse_us\n",
    "import uasyncio as asyncio\n",
    "from stdmqttas import fconfig, config, mqttconnecttask, pinled\n",
    "from mqtt_as import MQTTClient\n",
    "\n",
    "shortmacaddress =\"{:02x}{:02x}{:02x}\".format(*network.WLAN().config(\"mac\")[-3:])\n",
    "print(\"*** connected shortmac\", shortmacaddress)\n",
    "boardname = fconfig[\"boardname\"]\n",
    "topicstatus = \"ab/%s/%s/status\"%(boardname, shortmacaddress)\n",
    "topicserial = \"ab/%s/%s/serial\"%(boardname, shortmacaddress)\n",
    "\n",
    "pinbitbashin = Pin(int(fconfig[\"pinbitbashin\"]), Pin.IN)\n",
    "\n",
    "async def onconnecttask(client):\n",
    "    ipnumber = client._sta_if.ifconfig()[0]\n",
    "    print(\"ipnumber\", ipnumber)\n",
    "    await client.publish(topicstatus, shortmacaddress, retain=True)\n",
    "    await client.publish(topicstatus, ipnumber, retain=True)\n",
    "\n",
    "async def heartbeattask(client):\n",
    "    i = 0\n",
    "    while True:\n",
    "        payload = \"beat %d\"%i\n",
    "        print(payload)\n",
    "        if client.isconnected():\n",
    "            await client.publish(topicstatus, payload, retain=True)\n",
    "        await asyncio.sleep_ms(3000)\n",
    "        i += 1\n",
    "        \n",
    "async def receivebitbashtask(client):\n",
    "    dat = bytearray(100)\n",
    "    datPrev = bytearray(100)\n",
    "    t0 = time.time()\n",
    "    while True:\n",
    "        while pinbitbashin.value() == 1:\n",
    "            await asyncio.sleep_ms(5)\n",
    "        x = (time_pulse_us(pinbitbashin, 1, 50000)+500)//1000\n",
    "        if x == 3:\n",
    "            for i in range(100):\n",
    "                x = (time_pulse_us(pinbitbashin, 1, 5000)+500)//1000\n",
    "                if x == 1:\n",
    "                    dat[i] = ord('0')\n",
    "                elif x == 3:\n",
    "                    dat[i] = ord('1')\n",
    "                elif i != 0:\n",
    "                    print(\"short\", i)\n",
    "            else:\n",
    "                print(dat)\n",
    "                if client.isconnected() and (dat != datPrev or abs(t0 - time.time()) > 600):\n",
    "                    await client.publish(topicserial, dat)\n",
    "                    dat, datPrev = datPrev, dat\n",
    "                    t0 = time.time()\n",
    "                    print(\"Sent at t0\", t0)\n",
    "   \n",
    "config['connect_coro'] = onconnecttask\n",
    "config['will'] = (topicstatus, \"offline\", True)\n",
    "client = MQTTClient(config)\n",
    "    \n",
    "aloop = asyncio.get_event_loop()\n",
    "aloop.create_task(heartbeattask(client))\n",
    "aloop.create_task(mqttconnecttask(client))\n",
    "aloop.create_task(receivebitbashtask(client))\n",
    "aloop.run_forever()\n",
    "\n",
    "\n"
   ]
  },
  {
   "cell_type": "code",
   "execution_count": 46,
   "metadata": {},
   "outputs": [
    {
     "name": "stdout",
     "output_type": "stream",
     "text": [
      "\u001b[34mConnecting to --port=/dev/ttyUSB1 --baud=115200 \u001b[0m\n",
      "\u001b[34mReady.\n",
      "\u001b[0m"
     ]
    }
   ],
   "source": [
    "%serialconnect"
   ]
  },
  {
   "cell_type": "code",
   "execution_count": 56,
   "metadata": {},
   "outputs": [
    {
     "name": "stdout",
     "output_type": "stream",
     "text": [
      "430\r\n"
     ]
    }
   ],
   "source": [
    "print(time.time())"
   ]
  },
  {
   "cell_type": "code",
   "execution_count": 50,
   "metadata": {},
   "outputs": [
    {
     "name": "stdout",
     "output_type": "stream",
     "text": [
      "True\r\n"
     ]
    }
   ],
   "source": [
    "b = bytearray(100)\n",
    "print(a == b)"
   ]
  },
  {
   "cell_type": "code",
   "execution_count": 51,
   "metadata": {},
   "outputs": [],
   "source": [
    "a[1] = 1"
   ]
  },
  {
   "cell_type": "code",
   "execution_count": 52,
   "metadata": {},
   "outputs": [
    {
     "name": "stdout",
     "output_type": "stream",
     "text": [
      "False\r\n"
     ]
    }
   ],
   "source": [
    "print(a == b)"
   ]
  },
  {
   "cell_type": "code",
   "execution_count": null,
   "metadata": {},
   "outputs": [],
   "source": []
  },
  {
   "cell_type": "code",
   "execution_count": null,
   "metadata": {},
   "outputs": [],
   "source": []
  },
  {
   "cell_type": "code",
   "execution_count": 442,
   "metadata": {},
   "outputs": [
    {
     "name": "stderr",
     "output_type": "stream",
     "text": [
      "Traceback (most recent call last):\n",
      "  File \"<stdin>\", line 7, in <module>\n",
      "AttributeError: 'module' object has no attribute 'getaddr'\n"
     ]
    }
   ],
   "source": [
    "import network\n",
    "w = network.WLAN()\n",
    "w.active(1)\n",
    "w.connect(\"DoESLiverpool\", \"decafbad00\")\n",
    "import socket\n",
    "print(socket.getaddrinfo(\"sensorcity.io\", 80))"
   ]
  },
  {
   "cell_type": "code",
   "execution_count": 446,
   "metadata": {},
   "outputs": [
    {
     "name": "stdout",
     "output_type": "stream",
     "text": [
      "[(2, 1, 0, '', ('3.15.149.233', 80))]\r\n"
     ]
    }
   ],
   "source": [
    "print(socket.getaddrinfo(\"sensorcity.io\", 80))"
   ]
  },
  {
   "cell_type": "code",
   "execution_count": null,
   "metadata": {},
   "outputs": [],
   "source": []
  },
  {
   "cell_type": "code",
   "execution_count": null,
   "metadata": {},
   "outputs": [],
   "source": []
  },
  {
   "cell_type": "code",
   "execution_count": null,
   "metadata": {},
   "outputs": [],
   "source": []
  },
  {
   "cell_type": "code",
   "execution_count": null,
   "metadata": {},
   "outputs": [],
   "source": []
  },
  {
   "cell_type": "code",
   "execution_count": null,
   "metadata": {},
   "outputs": [],
   "source": []
  },
  {
   "cell_type": "code",
   "execution_count": 483,
   "metadata": {},
   "outputs": [
    {
     "name": "stdout",
     "output_type": "stream",
     "text": [
      "\u001b[34mConnecting to --port=/dev/ttyUSB1 --baud=115200 \u001b[0m\n",
      "\u001b[34mReady.\n",
      "\u001b[0m"
     ]
    }
   ],
   "source": [
    "%serialconnect"
   ]
  },
  {
   "cell_type": "code",
   "execution_count": 534,
   "metadata": {},
   "outputs": [
    {
     "name": "stdout",
     "output_type": "stream",
     "text": [
      "[-2]\r\n"
     ]
    }
   ],
   "source": [
    "from machine import Pin\n",
    "pinbitbashin = Pin(13, Pin.IN)\n",
    "def readpulses():\n",
    "    while pinbitbashin.value():\n",
    "        pass\n",
    "    x1 = time_pulse_us(pinbitbashin, 1, 500000)\n",
    "    x = (x1+500)//1000\n",
    "    if x != 3:\n",
    "        return [x1]\n",
    "    for i in range(100):\n",
    "        x = (time_pulse_us(pinbitbashin, 1, 5000)+500)//1000\n",
    "        if x == 1:\n",
    "            dat[i] = ord('0')\n",
    "        elif x == 3:\n",
    "            dat[i] = ord('1')\n",
    "        elif i != 0:\n",
    "            return i, dat[:i]\n",
    "    return dat\n",
    "print(readpulses())\n"
   ]
  },
  {
   "cell_type": "raw",
   "metadata": {},
   "source": [
    "Bitbashing sequence from the mega\n",
    "    \n",
    "  digitalWrite(datapin, 0); \n",
    "  delay(50); \n",
    "  digitalWrite(datapin, 1); \n",
    "  delay(3); \n",
    "  digitalWrite(datapin, 0); \n",
    "  delay(5); \n",
    "  for (int i = 0; i < 100; i++) {\n",
    "    digitalWrite(datapin, 1); \n",
    "    delay(switchvalues[i] ? 3 : 1); \n",
    "    digitalWrite(datapin, 0); \n",
    "    delay(2); \n",
    "  }\n",
    "  digitalWrite(datapin, 1); \n"
   ]
  },
  {
   "cell_type": "code",
   "execution_count": null,
   "metadata": {},
   "outputs": [],
   "source": []
  },
  {
   "cell_type": "code",
   "execution_count": null,
   "metadata": {},
   "outputs": [],
   "source": []
  },
  {
   "cell_type": "code",
   "execution_count": null,
   "metadata": {},
   "outputs": [],
   "source": []
  },
  {
   "cell_type": "code",
   "execution_count": null,
   "metadata": {},
   "outputs": [],
   "source": []
  },
  {
   "cell_type": "code",
   "execution_count": null,
   "metadata": {},
   "outputs": [],
   "source": []
  },
  {
   "cell_type": "code",
   "execution_count": null,
   "metadata": {},
   "outputs": [],
   "source": []
  },
  {
   "cell_type": "code",
   "execution_count": null,
   "metadata": {},
   "outputs": [],
   "source": []
  },
  {
   "cell_type": "code",
   "execution_count": null,
   "metadata": {},
   "outputs": [],
   "source": []
  },
  {
   "cell_type": "code",
   "execution_count": 49,
   "metadata": {},
   "outputs": [
    {
     "name": "stdout",
     "output_type": "stream",
     "text": [
      "serial exception on close write failed: [Errno 5] Input/output error\n",
      "\u001b[34mConnecting to --port=/dev/ttyUSB1 --baud=115200 \u001b[0m\n",
      "\u001b[34mReady.\n",
      "\u001b[0m"
     ]
    }
   ],
   "source": [
    "%serialconnect"
   ]
  },
  {
   "cell_type": "code",
   "execution_count": 304,
   "metadata": {},
   "outputs": [],
   "source": [
    "from machine import Pin, time_pulse_us\n",
    "pinbitbashin = Pin(13, Pin.IN)\n",
    "\n",
    "dat = bytearray(100)\n",
    "def readpulses():\n",
    "    if pinbitbashin.value() != 0:\n",
    "        return \"\"\n",
    "    x = (time_pulse_us(pinbitbashin, 1, 50000)+500)//1000\n",
    "    if x != 3:\n",
    "        return \"\"\n",
    "    print(\"got3\")\n",
    "    for i in range(100):\n",
    "        x = (time_pulse_us(pinbitbashin, 1, 5000)+500)//1000\n",
    "        if x == 1:\n",
    "            dat[i] = ord('0')\n",
    "        elif x == 3:\n",
    "            dat[i] = ord('1')\n",
    "        elif i != 0:\n",
    "            return \"\"\n",
    "    return dat\n"
   ]
  },
  {
   "cell_type": "code",
   "execution_count": 320,
   "metadata": {},
   "outputs": [
    {
     "name": "stdout",
     "output_type": "stream",
     "text": [
      "got3\n",
      "bytearray(b'1101111111111111111111111111111111111111111111111111111111111111111111111111111111111111111111111111')\n"
     ]
    }
   ],
   "source": [
    "while pinbitbashin.value() == 1:\n",
    "    pass\n",
    "t = readpulses()\n",
    "if t:\n",
    "    print(t)\n"
   ]
  },
  {
   "cell_type": "code",
   "execution_count": 223,
   "metadata": {},
   "outputs": [
    {
     "name": "stdout",
     "output_type": "stream",
     "text": [
      "50\r\n"
     ]
    }
   ],
   "source": [
    "x = (time_pulse_us(pinbitbashin, 0, 500000)+500)//1000\n",
    "print(x)"
   ]
  },
  {
   "cell_type": "code",
   "execution_count": 599,
   "metadata": {},
   "outputs": [
    {
     "name": "stdout",
     "output_type": "stream",
     "text": [
      "0\r\n"
     ]
    }
   ],
   "source": [
    "print(pinbitbashin.value())"
   ]
  },
  {
   "cell_type": "code",
   "execution_count": null,
   "metadata": {},
   "outputs": [],
   "source": []
  },
  {
   "cell_type": "code",
   "execution_count": null,
   "metadata": {},
   "outputs": [],
   "source": []
  },
  {
   "cell_type": "code",
   "execution_count": null,
   "metadata": {},
   "outputs": [],
   "source": []
  }
 ],
 "metadata": {
  "kernelspec": {
   "display_name": "MicroPython - USB",
   "language": "micropython",
   "name": "micropython"
  },
  "language_info": {
   "codemirror_mode": "python",
   "file_extension": ".py",
   "mimetype": "text/python",
   "name": "micropython"
  }
 },
 "nbformat": 4,
 "nbformat_minor": 2
}
