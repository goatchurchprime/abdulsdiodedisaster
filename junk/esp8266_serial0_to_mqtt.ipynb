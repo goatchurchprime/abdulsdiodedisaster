{
 "cells": [
  {
   "cell_type": "code",
   "execution_count": 1,
   "metadata": {},
   "outputs": [
    {
     "name": "stdout",
     "output_type": "stream",
     "text": [
      "\u001b[34mExecuting:\n",
      "  esptool.py --port /dev/ttyUSB0 erase_flash\n",
      "\n",
      "\u001b[0mesptool.py v2.8\n",
      "Serial port /dev/ttyUSB0\n",
      "Connecting....\n",
      "\u001b[34m[Press the PRG button now if required]\n",
      "\u001b[0mDetecting chip type... ESP8266\n",
      "Chip is ESP8266EX\n",
      "Features: WiFi\n",
      "Crystal is 26MHz\n",
      "MAC: 68:c6:3a:99:41:c2\n",
      "Uploading stub...\n",
      "Running stub...\n",
      "Stub running...\n",
      "Erasing flash (this may take a while)...\n",
      "Chip erase completed successfully in 8.3s\n",
      "Hard resetting via RTS pin...\n"
     ]
    }
   ],
   "source": [
    "# This requires you to have pins 567 up to flash\n",
    "%esptool erase"
   ]
  },
  {
   "cell_type": "code",
   "execution_count": 2,
   "metadata": {},
   "outputs": [
    {
     "name": "stdout",
     "output_type": "stream",
     "text": [
      "\u001b[34mExecuting:\n",
      "  esptool.py --port /dev/ttyUSB0 --baud 460800 write_flash --flash_size=detect -fm dio 0 bin/firmware-combined.bin\n",
      "\n",
      "\u001b[0mesptool.py v2.8\n",
      "Serial port /dev/ttyUSB0\n",
      "Connecting....\n",
      "\u001b[34m[Press the PRG button now if required]\n",
      "\u001b[0mDetecting chip type... ESP8266\n",
      "Chip is ESP8266EX\n",
      "Features: WiFi\n",
      "Crystal is 26MHz\n",
      "MAC: 68:c6:3a:99:41:c2\n",
      "Uploading stub...\n",
      "Running stub...\n",
      "Stub running...\n",
      "Changing baud rate to 460800\n",
      "Changed.\n",
      "Configuring flash size...\n",
      "Auto-detected Flash size: 4MB\n",
      "Flash params set to 0x0240\n",
      "Compressed 624400 bytes to 406630...\n",
      "Wrote 624400 bytes (406630 compressed) at 0x00000000 in 9.3 seconds (effective 535.4 kbit/s)...\n",
      "Hash of data verified.\n",
      "\n",
      "Leaving...\n",
      "Hard resetting via RTS pin...\n"
     ]
    }
   ],
   "source": [
    "# This requires you to have pins 567 up to flash\n",
    "# This firmware was built with mqtt_as from https://github.com/goatchurchprime/jupyter_micropython_developer_notebooks/blob/master/mqtt_async_projects/esp8266_commissioning_mqtt_as.ipynb\n",
    "%esptool esp8266 bin/firmware-combined.bin"
   ]
  },
  {
   "cell_type": "code",
   "execution_count": 3,
   "metadata": {},
   "outputs": [
    {
     "name": "stdout",
     "output_type": "stream",
     "text": [
      "\u001b[34mConnecting to --port=/dev/ttyUSB0 --baud=115200 \u001b[0m\n",
      "\u001b[34mReady.\n",
      "\u001b[0m"
     ]
    }
   ],
   "source": [
    "# now just the 56 switches\n",
    "%serialconnect"
   ]
  },
  {
   "cell_type": "code",
   "execution_count": 4,
   "metadata": {},
   "outputs": [
    {
     "name": "stdout",
     "output_type": "stream",
     "text": [
      "__main__          lighthttpserve_funcs                uasyncio/queues   urandom\n",
      "_boot             lwip              uasyncio/synchro  ure\n",
      "_onewire          machine           ubinascii         uselect\n",
      "_webrepl          math              ucollections      usocket\n",
      "apa102            micropython       ucryptolib        ussl\n",
      "btree             mqtt_as           uctypes           ustruct\n",
      "builtins          mqtt_as_timeout   uerrno            utime\n",
      "collections/deque neopixel          uhashlib          utimeq\n",
      "dht               network           uheapq            uwebsocket\n",
      "ds18x20           ntptime           uio               uzlib\n",
      "esp               onewire           ujson             webrepl\n",
      "flashbdev         port_diag         umqtt/robust      webrepl_setup\n",
      "framebuf          sys               umqtt/simple      websocket_helper\n",
      "gc                uarray            uos\n",
      "inisetup          uasyncio/__init__ upip\n",
      "itertools         uasyncio/core     upip_utarfile\n",
      "Plus any modules on the filesystem\n"
     ]
    }
   ],
   "source": [
    "help(\"modules\")"
   ]
  },
  {
   "cell_type": "code",
   "execution_count": 9,
   "metadata": {},
   "outputs": [
    {
     "name": "stdout",
     "output_type": "stream",
     "text": [
      "Sent 93 lines (2923 bytes) to confighotspot.py.\n"
     ]
    }
   ],
   "source": [
    "# this is the code for changing the wifi credentials\n",
    "%sendtofile --source utils.py\n",
    "%sendtofile --source confighotspot.py"
   ]
  },
  {
   "cell_type": "code",
   "execution_count": 8,
   "metadata": {},
   "outputs": [
    {
     "name": "stdout",
     "output_type": "stream",
     "text": [
      "Sent 7 lines (154 bytes) to config.txt.\n"
     ]
    }
   ],
   "source": [
    "%sendtofile config.txt\n",
    "\n",
    "wifiname     DoESLiverpool\n",
    "wifipassword decafbad00\n",
    "mqttbroker   sensorcity.io\n",
    "pinled       14\n",
    "boardname    abdushop8\n",
    "Dserialsource uart0\n",
    "serialsource none"
   ]
  },
  {
   "cell_type": "code",
   "execution_count": null,
   "metadata": {},
   "outputs": [],
   "source": []
  },
  {
   "cell_type": "code",
   "execution_count": 7,
   "metadata": {},
   "outputs": [
    {
     "name": "stdout",
     "output_type": "stream",
     "text": [
      "serial exception on close write failed: [Errno 5] Input/output error\n",
      "\u001b[34mConnecting to --port=/dev/ttyUSB0 --baud=115200 \u001b[0m\n",
      "\u001b[34mReady.\n",
      "\u001b[0m"
     ]
    }
   ],
   "source": [
    "%serialconnect"
   ]
  },
  {
   "cell_type": "code",
   "execution_count": 97,
   "metadata": {},
   "outputs": [
    {
     "name": "stdout",
     "output_type": "stream",
     "text": [
      "Sent 116 lines (3993 bytes) to main.py.\n"
     ]
    }
   ],
   "source": [
    "%sendtofile main.py\n",
    "\n",
    "import time, network, os, sys, itertools\n",
    "from machine import Pin, UART\n",
    "from mqtt_as import config, MQTTClient\n",
    "import uasyncio as asyncio\n",
    "\n",
    "fconfig = dict(x.split()  for x in open(\"config.txt\"))\n",
    "pinled = Pin(int(fconfig[\"pinled\"]), Pin.OUT)\n",
    "    \n",
    "shortmacaddress =\"{:02x}{:02x}{:02x}\".format(*network.WLAN().config(\"mac\")[-3:])\n",
    "print(\"*** connected shortmac\", shortmacaddress)\n",
    "boardname = fconfig[\"boardname\"]\n",
    "topicstatus = \"ab/%s/%s/status\"%(boardname, shortmacaddress)\n",
    "topicserial = \"ab/%s/%s/serial\"%(boardname, shortmacaddress)\n",
    "\n",
    "async def serialtask(uart):\n",
    "    buf = memoryview(bytearray(240))\n",
    "    e = 0\n",
    "    while True:\n",
    "        s, e = e, e + (uart and uart.readinto(buf[e:]) or 0)\n",
    "        while s < e:\n",
    "            s += 1\n",
    "            if buf[s-1] == ord('\\n'):\n",
    "                if client.isconnected():\n",
    "                    await client.publish(topicserial, buf[:s-1])\n",
    "                    print(\"message sent\")\n",
    "                buf[:e-s] = buf[s:e]\n",
    "                s, e = 0, e-s\n",
    "        if e == len(buf):\n",
    "            if client.isconnected():\n",
    "                await client.publish(topicstatus, b\"BUFFEROVERFLOW\")\n",
    "            e = 0\n",
    "        await asyncio.sleep_ms(5)\n",
    "\n",
    "        \n",
    "async def connecttaskrobust():\n",
    "    for i in range(5):\n",
    "        print(\"*** connecttaskrobust\", i)\n",
    "        try:\n",
    "            await client.connect()\n",
    "            print(\"got broker connection to\", client._addr)\n",
    "            return True\n",
    "        except OSError as e:\n",
    "            print(\"client connect error\", [e])\n",
    "            if not client._sta_if.isconnected():\n",
    "                print(\"wifi failed to connect to\", (fconfig[\"wifiname\"], fconfig[\"wifipassword\"]))\n",
    "                if i == 1:\n",
    "                    return False\n",
    "            elif client._addr is None:\n",
    "                print(\"dns failed for\", fconfig[\"mqttbroker\"])\n",
    "            else:\n",
    "                import uerrno\n",
    "                errorcode = uerrno.errorcode.get(e.args[0], e.args[0])\n",
    "                print(\"connection failure errorcode\", errorcode)\n",
    "        await asyncio.sleep_ms(500)\n",
    "    return False\n",
    "\n",
    "def handleconnection_indirect(reader, writer):\n",
    "    try:\n",
    "        return handleconnection(reader, writer)\n",
    "    except OSError as e:\n",
    "        print(\"handleconnection exception\", str(e))\n",
    "\n",
    "async def connecttask():\n",
    "    print(\"*** connecttask\")\n",
    "    if not (await connecttaskrobust()):\n",
    "        from confighotspot import handleconnection\n",
    "        si = network.WLAN(network.AP_IF)\n",
    "        si.active(True)\n",
    "        ipnumber = si.ifconfig()[0]\n",
    "        print(\"Creating access point MicroPython-\"+shortmacaddress)\n",
    "        print(\"* Running on http://%s/\" % ipnumber)\n",
    "        aloop.create_task(asyncio.start_server(handleconnection_indirect, ipnumber, 80))\n",
    "        return\n",
    "    \n",
    "    print(\"*** connected\")\n",
    "    await client.publish(topicstatus, \"connected\", retain=True)\n",
    "    for i in range(19):\n",
    "        pinled.value(i%2)\n",
    "        await asyncio.sleep_ms(100)\n",
    "\n",
    "    uart = None\n",
    "    if fconfig[\"serialsource\"] == \"uart0\":\n",
    "        uart = UART(0, baudrate=115200, rxbuf=240)\n",
    "        os.dupterm(None, 1)\n",
    "\n",
    "    aloop.create_task(serialtask(uart))\n",
    "    for i in itertools.count():\n",
    "        print(\"connecttask loop\", i, client.isconnected())\n",
    "        if client.isconnected():\n",
    "            await client.publish(topicstatus, \"connected %d\"%i, retain=True)\n",
    "        else:\n",
    "            print(\"disconnected\", i)\n",
    "        await asyncio.sleep_ms(3000)\n",
    "\n",
    "async def startupdisconnectedheartbeattask():\n",
    "    for i in itertools.count():\n",
    "        print(\"startupheartbeattask\", i)\n",
    "        pinled.value(i%2)\n",
    "        await asyncio.sleep_ms(1000)\n",
    "        if client.isconnected():\n",
    "            break\n",
    "    print(\"startupheartbeattask connected\", client._addr)\n",
    "            \n",
    "config['server'] = fconfig[\"mqttbroker\"]\n",
    "config['ssid'] = fconfig[\"wifiname\"]\n",
    "config['wifi_pw'] = fconfig[\"wifipassword\"]\n",
    "config['will'] = [ topicstatus, \"dropped\", True]\n",
    "  \n",
    "client = MQTTClient(config)\n",
    "client._addr = None\n",
    "\n",
    "aloop = asyncio.get_event_loop()\n",
    "aloop.create_task(startupdisconnectedheartbeattask())\n",
    "aloop.create_task(connecttask())\n",
    "aloop.run_forever()\n",
    "\n"
   ]
  },
  {
   "cell_type": "code",
   "execution_count": null,
   "metadata": {},
   "outputs": [],
   "source": []
  },
  {
   "cell_type": "code",
   "execution_count": null,
   "metadata": {},
   "outputs": [],
   "source": []
  },
  {
   "cell_type": "code",
   "execution_count": null,
   "metadata": {},
   "outputs": [],
   "source": []
  },
  {
   "cell_type": "code",
   "execution_count": null,
   "metadata": {},
   "outputs": [],
   "source": [
    "      digitalWrite(datapin, 0); \n",
    "      delay(50); \n",
    "      for (int i = 0; i < 100; i++) {\n",
    "        digitalWrite(datapin, 1); \n",
    "        delay(switchvalues[i] ? 5 : 2); \n",
    "        digitalWrite(datapin, 0); \n",
    "        delay(4); \n",
    "      }\n",
    "      digitalWrite(datapin, 1); \n",
    "machine.time_pulse_us"
   ]
  },
  {
   "cell_type": "code",
   "execution_count": 108,
   "metadata": {},
   "outputs": [
    {
     "name": "stdout",
     "output_type": "stream",
     "text": [
      "\u001b[34mConnecting to --port=/dev/ttyUSB3 --baud=115200 \u001b[0m\n",
      "\u001b[34mReady.\n",
      "\u001b[0m"
     ]
    }
   ],
   "source": [
    "%serialconnect"
   ]
  },
  {
   "cell_type": "code",
   "execution_count": 109,
   "metadata": {},
   "outputs": [],
   "source": [
    "from machine import Pin, time_pulse_us\n",
    "import time\n",
    "p = Pin(13, Pin.IN)\n"
   ]
  },
  {
   "cell_type": "code",
   "execution_count": 110,
   "metadata": {},
   "outputs": [
    {
     "name": "stdout",
     "output_type": "stream",
     "text": [
      "000000000000000000000000000000000000000000000000000000000000000000000000000000000000000000000000000000000000000000000000000000000000000000000000000000000000000000000000000000000000000000000000000000000000000000000000000000000000000000000000000000000000000000000000000000000000000000000000000000000000000000000000000000000000000000000000000000000000000000000000000000000000000000000000000000000000000000000000000000000000000000000000000000000000000000000000000000000000000000000000000000000000000000000000000000000000000000000000000000000000000000000000000000000000000000000000000000000000000000000000000000000000000000000000000000000000000000000000000000000000000000000000000000000000000000000000000000000000000000000000000000000000000000000000000000000000000000000000000000000000000000000000000000000000000000000000000000000000011111111111111111111111111111111111111111111111111111111111111111111111111111111111111111111111111111111111111111111111111111111111111111111111111111111111111111111111111111111111111111111111111111111111111111111111111111111111111111111111111111111111111111111111111111111111111111111111111111111111111111111111111111111111111111111111111111111111111111111111111111111111111111111111111111111111111111111111111111111111111111111111111111111111111111111111111111111111111111111111111111111111111111111111111111111111111111111111111111111111111111111111111111111111111111111111111111111111111111111111111111111111111111111111111111111111111111111111111111111111111111111111111111111100000000000000000000000000000000000000000000000000000000000000000000000000000000000000000000000000000000000000000000000000000000000000000000000000000000011111111111111111111111111111111111111111111111111111111111111111111111111111111111111111111111111111111111111111111111111111111111111111111111111111111111111111111111111111111111111111111111111111111111111111111111111111111111111111111111111111111111111111111111111111111111111111111111111111111111111111111111111111111111111111111111111111111111111111111111111111111111111111111111111111111111111111111111111111111111111111111111111111111111111111111111111111111111111111111111111111111111111111111111111111111111111111111111111111111111111111111111111111111111111111111111111111111111111111111111111111111111111111111111111111111111111111111111111111111111111111111111111111111111111111111111111111111111111111111111111111111111111111111111111111111111111111111111111111111111111111111111111111111111111111111111111111111111111111111111111111111111111111111111111111111111111111111111111111111111111111111111111111111111111111111111111111111111111111111111111111111111111111111111111111111111111111111111111111111111111111111111111111111111111111111111111111111111111111111111111111111111111111111111111111111111111111111111111111111111111111111111111111111111111111111111111111111111111111111111111111111111111111111111111111111111111111111111111111111111111111111111111111111111111111111111111111111111111111111111111111111111111111111111111111111111111111111111111111111111111111111111111111111111111111111111111111111111111111111111111111111111111111111111111111111111111111111111111111111111111111111111111111111111111111111111111111111111111111111111111111111111111111111111111111111111111111111111111111111111111111111111111111111111111111111111111111111111111111111111111111111111111111111111111111111111111111111111111111111111111111111111111111111111111111111111111111111111111111111111111111111111111111111111111111111111111111111111111111111111111111111111111111111111111111111111111111111111111111111111111111111111111111111111111111111111111111111111111111111111111111111111111111111111111111111111111111111111111111111111111111111111111111111111111111111111111111111111111111111111111111111111111111111111111111111111111111111111111111111111111111111111111111111111111111111111111111111111111111111111111111111111111111111111111111111111111111111111111111111111111111111111111111111111111111111111111111111111111111111111111111111111111111111111111111111111111111111111111111111111111111111111111111111111111111111111111111111111111111111111111111111111111111111111111111111111111111111111111111111111111111111111111111111111111111111111111111111111111111111111111111111111111111111111111111111111111111111111111111111111111111111111111111111111111111111111111111111111111111111111111111111111111111111111111111111111111111111111111111111111111111111111111111111111111111111111111111111111111111111111111111111111111111111111111111111111111111111111111111111111111111111111111111111111111111111111111111111111111111111111111111111111111111111111111111111111111111111111111111111111111111111111111111111111111111111111111111111111111111111111111111111111111111111111111111111111111111111111111111111111111111111111111111111111111111111111111111111111111111111111111111111111111111111111111111100000000000000000000000000000000000000000000000000000000000000000000000000000000000000000000000000000000000000000000000000000000000000000000000000000000111111111111111000000000111111111111111000000000000111111111111110000000000001111111111111110000000000001111111111111110000000000000111111111111111000000000000111111111111111000000000000011111111111111100000000000011111111111111100000000000001111111111111110000000000001111111111111110000000000001111111111111111000000000001111111111111100000000000011111111111111100000000000111111111111111100000000000011111111111111100000000000011111111111111100000000000001111111111111100000000000001111111111111110000000000001111111111111110000000000000111111111111111000000000000111111111111111000000000000111111111111111100000000000011111111111110000000000000111111111111111000000000001"
     ]
    }
   ],
   "source": [
    "\n",
    "time_pulse_us(p, 1, 1000000)\n",
    "for j in range(190):\n",
    "    for i in range(30):\n",
    "        time.sleep_us(100)\n",
    "        print(p.value(), end=\"\")\n"
   ]
  },
  {
   "cell_type": "code",
   "execution_count": 129,
   "metadata": {},
   "outputs": [
    {
     "name": "stdout",
     "output_type": "stream",
     "text": [
      "50015\r\n"
     ]
    }
   ],
   "source": [
    "x = time_pulse_us(p, 0, 500000)\n",
    "print(x)"
   ]
  },
  {
   "cell_type": "code",
   "execution_count": 132,
   "metadata": {},
   "outputs": [
    {
     "name": "stdout",
     "output_type": "stream",
     "text": [
      "bytearray(b'\\x00\\x00\\x00\\x00\\x00\\x00\\x00\\x00\\x00\\x00')\r\n"
     ]
    }
   ],
   "source": [
    "print(bytearray(10))\n"
   ]
  },
  {
   "cell_type": "code",
   "execution_count": 137,
   "metadata": {},
   "outputs": [
    {
     "name": "stdout",
     "output_type": "stream",
     "text": [
      "bytearray(b'1\\x00\\x00\\x00\\x00\\x00\\x00\\x00\\x00\\x00\\x00\\x00\\x00\\x00\\x00\\x00\\x00\\x00\\x00\\x00\\x00\\x00\\x00\\x00\\x00\\x00\\x00\\x00\\x00\\x00\\x00\\x00\\x00\\x00\\x00\\x00\\x00\\x00\\x00\\x00\\x00\\x00\\x00\\x00\\x00\\x00\\x00\\x00\\x00\\x00\\x00\\x00\\x00\\x00\\x00\\x00\\x00\\x00\\x00\\x00\\x00\\x00\\x00\\x00\\x00\\x00\\x00\\x00\\x00\\x00\\x00\\x00\\x00\\x00\\x00\\x00\\x00\\x00\\x00\\x00\\x00\\x00\\x00\\x00\\x00\\x00\\x00\\x00\\x00\\x00\\x00\\x00\\x00\\x00\\x00\\x00\\x00\\x00\\x00\\x00')\r\n"
     ]
    }
   ],
   "source": [
    "dat = bytearray(100)\n",
    "dat[0] = ord('1')\n",
    "print(dat)"
   ]
  },
  {
   "cell_type": "code",
   "execution_count": 146,
   "metadata": {},
   "outputs": [],
   "source": [
    "dat = bytearray(100)\n",
    "def readpulses():\n",
    "    x = (time_pulse_us(p, 0, 500000)+500)//1000\n",
    "    if x != 50:\n",
    "        return \"\"\n",
    "    for i in range(100):\n",
    "        x = (time_pulse_us(p, 1, 10000)+500)//1000\n",
    "        if x == 2:\n",
    "            dat[i] = ord('0')\n",
    "        elif x == 5:\n",
    "            dat[i] = ord('1')\n",
    "        elif i != 0:\n",
    "            print(dat[:i], x)\n",
    "            return \"\"\n",
    "    return dat\n"
   ]
  },
  {
   "cell_type": "code",
   "execution_count": 147,
   "metadata": {},
   "outputs": [
    {
     "name": "stdout",
     "output_type": "stream",
     "text": [
      "bytearray(b'1111111111111111111110111111111111111111111111111111111111111111111111111111111111111111111111111111')\n",
      "bytearray(b'1111111111111111111110111111111111111111111111111111111111111111111111111111111111111111111111111111')\n",
      "bytearray(b'1111111111111111111110111111111111111111111111111111111111111111111111111111111111111111111111111111')\n",
      ".bytearray(b'1111111111111111111110111111111111111111111111111111111111111111111111111111111111111111111111111111')\n",
      "bytearray(b'1111111111111111111110111111111111111111111111111111111111111111111111111111111111111111111111111111')\n",
      "bytearray(b'1111111111111111111111111111111111111111111111111111111111111111111111111111111111111111111111111111')\n",
      "bytearray(b'1111111111111111111111111111111111111111111111111111111111111111111111111111111111111111111111111111')\n",
      "bytearray(b'1111111111111111111111111111111111111111111111111111111111111111111111111111111111111111111111111111')\n",
      ".bytearray(b'1111111111111111111111111111111111111111111111111111111111111111111111111111111111111111111111111111')\n",
      "bytearray(b'1111111111111111111111111111111111111111111111111111111111111111111111111111111111111111111111111111')\n",
      "bytearray(b'1111111111111111111111111111111111111111111111111111111111111111111111111111111111111111111111111111')\n",
      "bytearray(b'1111111111111111111111111111111111111111111111111111111111111111111111111111111111111111111111111111')\n",
      "bytearray(b'1011111111111111111111111111111111111111111111111111111111111111111111111111111111111111111111111111')\n",
      ".bytearray(b'1011111111111111111111111111111111111111111111111111111111111111111111111111111111111111111111111111')\n",
      "bytearray(b'1011111111111111111111111111111111111111111111111111111111111111111111111111111111111111111111111111')\n",
      "bytearray(b'1011111111111111111111111111111111111111111111111111111111111111111111111111111111111111111111111111')\n",
      "bytearray(b'1011111111111111111111111111111111111111111111111111111111111111111111111111111111111111111111111111')\n",
      "bytearray(b'1111111111111111111111111111111111111111111111111111111111111111111111111111111111111111111111111111')\n",
      ".bytearray(b'1101111111111111111111111111111111111111111111111111111111111111111111111111111111111111111111111111')\n",
      "bytearray(b'1101111111111111111111111111111111111111111111111111111111111111111111111111111111111111111111111111')\n",
      "bytearray(b'1101111111111111111111111111111111111111111111111111111111111111111111111111111111111111111111111111')\n",
      "bytearray(b'1101111111111111111111111111111111111111111111111111111111111111111111111111111111111111111111111111')\n",
      "bytearray(b'1101111111111111111111111111111111111111111111111111111111111111111111111111111111111111111111111111')\n",
      ".bytearray(b'1101111111111111111111111111111111111111111111111111111111111111111111111111111111111111111111111111')\n",
      "\u001b[34m\n",
      "\n",
      "*** Sending Ctrl-C\n",
      "\n",
      "\u001b[0m"
     ]
    },
    {
     "name": "stderr",
     "output_type": "stream",
     "text": [
      "Traceback (most recent call last):\n",
      "  File \"<stdin>\", line 2, in <module>\n",
      "  File \"<stdin>\", line 5, in readpulses\n",
      "KeyboardInterrupt: \n"
     ]
    }
   ],
   "source": [
    "while 1:\n",
    "    x = readpulses()\n",
    "    if x:`\n",
    "        print(x)\n",
    "\n",
    "# minimal connection below"
   ]
  },
  {
   "cell_type": "code",
   "execution_count": 93,
   "metadata": {},
   "outputs": [
    {
     "name": "stdout",
     "output_type": "stream",
     "text": [
      "serial exception on close write failed: [Errno 5] Input/output error\n",
      "\u001b[34mConnecting to --port=/dev/ttyUSB2 --baud=115200 \u001b[0m\n",
      "\u001b[34mReady.\n",
      "\u001b[0m"
     ]
    }
   ],
   "source": [
    "%serialconnect"
   ]
  },
  {
   "cell_type": "code",
   "execution_count": 94,
   "metadata": {},
   "outputs": [
    {
     "name": "stdout",
     "output_type": "stream",
     "text": [
      "Sent 26 lines (787 bytes) to main.py.\n"
     ]
    }
   ],
   "source": [
    "%sendtofile main.py\n",
    "\n",
    "import network, socket, time, ubinascii, itertools\n",
    "\n",
    "w = network.WLAN()\n",
    "w.active(1)\n",
    "shortmacaddress = ubinascii.hexlify(w.config('mac')[-3:]).decode()\n",
    "#w.connect(\"DoESLiverpool\", \"decafbad00\")\n",
    "w.connect(\"AndroidAP01BD\", \"mattisatwat\")\n",
    "print(\"*** connected shortmac\", shortmacaddress)\n",
    "topicstatus = \"ab/%s/%s/status\"%(\"unknown\", shortmacaddress)\n",
    "\n",
    "try:\n",
    "    print(socket.getaddrinfo(\"sensorcity.io\", 80))\n",
    "except OSError as e:\n",
    "    import uerrno\n",
    "    errorcode = uerrno.errorcode.get(e.args[0], e.args[0])\n",
    "    print(errorcode)\n",
    "    \n",
    "import machine\n",
    "from umqtt.robust import MQTTClient\n",
    "client = MQTTClient(machine.unique_id(), \"sensorcity.io\", keepalive=60)\n",
    "client.connect()\n",
    "for i in itertools.count():\n",
    "    print(\"clientstatus\", i)\n",
    "    client.publish(topicstatus, str(i))\n",
    "    time.sleep_ms(1000)\n",
    "\n"
   ]
  },
  {
   "cell_type": "code",
   "execution_count": null,
   "metadata": {},
   "outputs": [],
   "source": []
  },
  {
   "cell_type": "code",
   "execution_count": null,
   "metadata": {},
   "outputs": [],
   "source": []
  },
  {
   "cell_type": "code",
   "execution_count": 60,
   "metadata": {},
   "outputs": [
    {
     "name": "stdout",
     "output_type": "stream",
     "text": [
      "\u001b[34mConnecting to --port=/dev/ttyUSB2 --baud=115200 \u001b[0m\n",
      "\u001b[34mReady.\n",
      "\u001b[0m"
     ]
    }
   ],
   "source": [
    "%serialconnect"
   ]
  },
  {
   "cell_type": "code",
   "execution_count": 61,
   "metadata": {},
   "outputs": [
    {
     "name": "stdout",
     "output_type": "stream",
     "text": [
      "Sent 93 lines (2923 bytes) to confighotspot.py.\n",
      "\n",
      "[missing-OK]ip:10.0.36.143,mask:255.0.0.0,gw:10.0.0.1\n",
      "\n",
      "\n",
      "[Late OK]\n",
      "\n"
     ]
    }
   ],
   "source": [
    "%sendtofile --source confighotspot.py"
   ]
  },
  {
   "cell_type": "code",
   "execution_count": 62,
   "metadata": {},
   "outputs": [
    {
     "name": "stdout",
     "output_type": "stream",
     "text": [
      "Sent 24 lines (789 bytes) to dmain.py.\n"
     ]
    }
   ],
   "source": [
    "%sendtofile dmain.py\n",
    "\n",
    "import time, os, network\n",
    "import uasyncio as asyncio\n",
    "from confighotspot import handleconnection\n",
    "\n",
    "si = network.WLAN(network.AP_IF) # create access-point interface\n",
    "shortmacaddress =\"{:02x}{:02x}{:02x}\".format(*si.config(\"mac\")[-3:])\n",
    "si.active(True)         # activate the interface\n",
    "print(\"Creating access point MicroPython-\"+shortmacaddress)\n",
    "\n",
    "ipnumber = si.ifconfig()[0]\n",
    "print(\"Device has ipnumber\", ipnumber)\n",
    "\n",
    "def handleconnection_indirect(reader, writer):\n",
    "    try:\n",
    "        return handleconnection(reader, writer)\n",
    "    except OSError as e:\n",
    "        print(\"handleconnection exception\", str(e))\n",
    "\n",
    "\n",
    "port = 80\n",
    "loop = asyncio.get_event_loop()\n",
    "print(\"* Running on http://%s:%s/\" % (ipnumber, port))\n",
    "loop.create_task(asyncio.start_server(handleconnection_indirect, ipnumber, port))\n",
    "loop.run_forever()\n"
   ]
  },
  {
   "cell_type": "code",
   "execution_count": 63,
   "metadata": {},
   "outputs": [
    {
     "name": "stdout",
     "output_type": "stream",
     "text": [
      "Creating access point MicroPython-0f263f\n",
      "Device has ipnumber 192.168.4.1\n",
      "* Running on http://192.168.4.1:80/\n",
      ".add 1\n",
      "aid 1\n",
      "station: 00:28:f8:a0:5f:4b join, AID = 1\n",
      ".............\n",
      "**[ys] <class 'serial.serialutil.SerialException'>\n",
      "**[ys] read failed: device reports readiness to read but returned no data (device disconnected or multiple access on port?)\n",
      "\n",
      "\n",
      "**[ys] <class 'serial.serialutil.SerialException'>\n",
      "**[ys] read failed: device reports readiness to read but returned no data (device disconnected or multiple access on port?)\n",
      "\n"
     ]
    }
   ],
   "source": [
    "import dmain"
   ]
  },
  {
   "cell_type": "code",
   "execution_count": null,
   "metadata": {},
   "outputs": [],
   "source": []
  }
 ],
 "metadata": {
  "kernelspec": {
   "display_name": "MicroPython - USB",
   "language": "micropython",
   "name": "micropython"
  },
  "language_info": {
   "codemirror_mode": "python",
   "file_extension": ".py",
   "mimetype": "text/python",
   "name": "micropython"
  }
 },
 "nbformat": 4,
 "nbformat_minor": 2
}
