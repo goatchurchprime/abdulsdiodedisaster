{
 "cells": [
  {
   "cell_type": "code",
   "execution_count": 1,
   "metadata": {},
   "outputs": [
    {
     "name": "stdout",
     "output_type": "stream",
     "text": [
      "\u001b[34mExecuting:\n",
      "  esptool.py --port /dev/ttyUSB0 erase_flash\n",
      "\n",
      "\u001b[0mesptool.py v2.8\n",
      "Serial port /dev/ttyUSB0\n",
      "Connecting....\n",
      "\u001b[34m[Press the PRG button now if required]\n",
      "\u001b[0mDetecting chip type... ESP8266\n",
      "Chip is ESP8266EX\n",
      "Features: WiFi\n",
      "Crystal is 26MHz\n",
      "MAC: dc:4f:22:60:bd:cd\n",
      "Uploading stub...\n",
      "Running stub...\n",
      "Stub running...\n",
      "Erasing flash (this may take a while)...\n",
      "Chip erase completed successfully in 16.8s\n",
      "Hard resetting via RTS pin...\n"
     ]
    }
   ],
   "source": [
    "# This requires you to have pins 567 up to flash\n",
    "%esptool erase"
   ]
  },
  {
   "cell_type": "code",
   "execution_count": 2,
   "metadata": {},
   "outputs": [
    {
     "name": "stdout",
     "output_type": "stream",
     "text": [
      "\u001b[34mExecuting:\n",
      "  esptool.py --port /dev/ttyUSB0 --baud 460800 write_flash --flash_size=detect -fm dio 0 bin/firmware-combined.bin\n",
      "\n",
      "\u001b[0mesptool.py v2.8\n",
      "Serial port /dev/ttyUSB0\n",
      "Connecting....\n",
      "\u001b[34m[Press the PRG button now if required]\n",
      "\u001b[0mDetecting chip type... ESP8266\n",
      "Chip is ESP8266EX\n",
      "Features: WiFi\n",
      "Crystal is 26MHz\n",
      "MAC: dc:4f:22:60:bd:cd\n",
      "Uploading stub...\n",
      "Running stub...\n",
      "Stub running...\n",
      "Changing baud rate to 460800\n",
      "Changed.\n",
      "Configuring flash size...\n",
      "Auto-detected Flash size: 4MB\n",
      "Flash params set to 0x0240\n",
      "Compressed 624400 bytes to 406630...\n",
      "Wrote 624400 bytes (406630 compressed) at 0x00000000 in 9.7 seconds (effective 512.4 kbit/s)...\n",
      "Hash of data verified.\n",
      "\n",
      "Leaving...\n",
      "Hard resetting via RTS pin...\n"
     ]
    }
   ],
   "source": [
    "# This requires you to have pins 567 up to flash\n",
    "# This firmware was built with mqtt_as from https://github.com/goatchurchprime/jupyter_micropython_developer_notebooks/blob/master/mqtt_async_projects/esp8266_commissioning_mqtt_as.ipynb\n",
    "%esptool esp8266 bin/firmware-combined.bin"
   ]
  },
  {
   "cell_type": "code",
   "execution_count": 4,
   "metadata": {},
   "outputs": [
    {
     "name": "stdout",
     "output_type": "stream",
     "text": [
      "\u001b[31m\n",
      "\n",
      "***Connection broken [Input/output error]\n",
      "\u001b[0mYou may need to reconnect\u001b[34m\n",
      "Closing serial Serial<id=0x7fd3e8046d50, open=True>(port='/dev/ttyUSB0', baudrate=115200, bytesize=8, parity='N', stopbits=1, timeout=0.5, xonxoff=False, rtscts=False, dsrdtr=False)\n",
      "\u001b[0m\u001b[34mConnecting to --port=/dev/ttyUSB1 --baud=115200 \u001b[0m\n",
      "\u001b[34mReady.\n",
      "\u001b[0m"
     ]
    }
   ],
   "source": [
    "# now just the 56 switches\n",
    "%serialconnect"
   ]
  },
  {
   "cell_type": "code",
   "execution_count": 5,
   "metadata": {},
   "outputs": [
    {
     "name": "stdout",
     "output_type": "stream",
     "text": [
      "__main__          lighthttpserve_funcs                uasyncio/queues   urandom\n",
      "_boot             lwip              uasyncio/synchro  ure\n",
      "_onewire          machine           ubinascii         uselect\n",
      "_webrepl          math              ucollections      usocket\n",
      "apa102            micropython       ucryptolib        ussl\n",
      "btree             mqtt_as           uctypes           ustruct\n",
      "builtins          mqtt_as_timeout   uerrno            utime\n",
      "collections/deque neopixel          uhashlib          utimeq\n",
      "dht               network           uheapq            uwebsocket\n",
      "ds18x20           ntptime           uio               uzlib\n",
      "esp               onewire           ujson             webrepl\n",
      "flashbdev         port_diag         umqtt/robust      webrepl_setup\n",
      "framebuf          sys               umqtt/simple      websocket_helper\n",
      "gc                uarray            uos\n",
      "inisetup          uasyncio/__init__ upip\n",
      "itertools         uasyncio/core     upip_utarfile\n",
      "Plus any modules on the filesystem\n"
     ]
    }
   ],
   "source": [
    "help(\"modules\")"
   ]
  },
  {
   "cell_type": "code",
   "execution_count": 6,
   "metadata": {},
   "outputs": [
    {
     "name": "stdout",
     "output_type": "stream",
     "text": [
      "Sent 32 lines (969 bytes) to utils.py.\n"
     ]
    }
   ],
   "source": [
    "# this is the code for changing the wifi credentials\n",
    "%sendtofile --source utils.py"
   ]
  },
  {
   "cell_type": "code",
   "execution_count": 7,
   "metadata": {},
   "outputs": [
    {
     "name": "stdout",
     "output_type": "stream",
     "text": [
      "Sent 5 lines (116 bytes) to config.txt.\n"
     ]
    }
   ],
   "source": [
    "%sendtofile config.txt\n",
    "\n",
    "wifiname     DoESLiverpool\n",
    "wifipassword decafbad00\n",
    "mqttbroker   sensorcity.io\n",
    "pinled       14\n",
    "boardname    abdushop2"
   ]
  },
  {
   "cell_type": "code",
   "execution_count": 12,
   "metadata": {},
   "outputs": [
    {
     "name": "stdout",
     "output_type": "stream",
     "text": [
      "serial exception on close write failed: [Errno 5] Input/output error\n",
      "\u001b[34mConnecting to --port=/dev/ttyUSB1 --baud=115200 \u001b[0m\n",
      "state: 2 -> 3 (0)\n",
      "\u001b[34mReady.\n",
      "\u001b[0m"
     ]
    }
   ],
   "source": [
    "%serialconnect"
   ]
  },
  {
   "cell_type": "code",
   "execution_count": null,
   "metadata": {},
   "outputs": [
    {
     "name": "stdout",
     "output_type": "stream",
     "text": [
      "[leftinbuffer] ['state: 3 -> 5 (10)']\n",
      "[leftinbuffer] ['add 0']\n",
      "[leftinbuffer] ['aid 1']\n",
      "[leftinbuffer] ['cnt ']\n",
      "[leftinbuffer] ['connected with DoESLiverpool, channel 6']\n",
      "[leftinbuffer] ['dhcp client start...']\n",
      "sleep disable\n",
      "connecttask\n",
      "scandone\n",
      "state: 5 -> 2 (b0)\n",
      "state: 5 -> 0 (2)\n",
      "reconnect\n",
      "scandone\n",
      "state: 0 -> 2 (b0)\n",
      "state: 2 -> 3 (0)\n",
      "state: 3 -> 5 (10)\n",
      "add 0\n",
      "aid 1\n",
      "cnt \n",
      "\n",
      "connected with DoESLiverpool, channel 6\n",
      "dhcp client start...\n",
      "scandone\n",
      "state: 5 -> 2 (b0)\n",
      "state: 5 -> 0 (2)\n",
      "reconnect\n",
      "scandone\n",
      "state: 0 -> 2 (b0)\n",
      "state: 2 -> 3 (0)\n",
      "state: 3 -> 5 (10)\n",
      "add 0\n",
      "aid 1\n",
      "cnt \n",
      "\n",
      "connected with DoESLiverpool, channel 6\n",
      "dhcp client start...\n",
      "client connect error [OSError()]\n"
     ]
    }
   ],
   "source": [
    "#%sendtofile main.py\n",
    "\n",
    "import time, network, os, sys\n",
    "from machine import Pin, UART\n",
    "from mqtt_as import config, MQTTClient\n",
    "import uasyncio as asyncio\n",
    "\n",
    "fconfig = dict(x.split()  for x in open(\"config.txt\"))\n",
    "pinled = Pin(int(fconfig[\"pinled\"]), Pin.OUT)\n",
    "for i in range(9):\n",
    "    pinled.value(i%2)\n",
    "    time.sleep_ms(300)\n",
    "    \n",
    "boardname = fconfig[\"boardname\"]\n",
    "topicserial = boardname+'/serial'\n",
    "topicip = boardname+'/ip'\n",
    "topicstatus = boardname+'/status'\n",
    "topicerror = boardname+'/error'\n",
    "\n",
    "#os.dupterm(None, 1)\n",
    "#uart = UART(0, baudrate=115200, rxbuf=240)\n",
    "#uartdebug = UART(1, baudrate=115200)\n",
    "uart = None\n",
    "\n",
    "n = 0            \n",
    "async def serialtask():\n",
    "    global n\n",
    "    buf = memoryview(bytearray(240))\n",
    "    e = 0\n",
    "    while True:\n",
    "        n += 1\n",
    "        s, e = e, e + (uart and uart.readinto(buf[e:]) or 0)\n",
    "        while s < e:\n",
    "            s += 1\n",
    "            if buf[s-1] == ord('\\n'):\n",
    "                if client.isconnected():\n",
    "                    await client.publish(topicserial, buf[:s-1])\n",
    "                    print(\"message sent\")\n",
    "                buf[:e-s] = buf[s:e]\n",
    "                s, e = 0, e-s\n",
    "        if e == len(buf):\n",
    "            if client.isconnected():\n",
    "                await client.publish(topicerror, b\"BUFFEROVERFLOW\")\n",
    "            e = 0\n",
    "        await asyncio.sleep_ms(5)\n",
    "\n",
    "async def onconnecttask(client):\n",
    "    ipnumber = client._sta_if.ifconfig()[0]\n",
    "    print(\"ipnumber\", ipnumber)\n",
    "    await client.publish(topicstatus, \"connected\", retain=True)\n",
    "    print(\"connected\")\n",
    "        \n",
    "async def connecttask():\n",
    "    print(\"connecttask\")\n",
    "    try:\n",
    "        await client.connect()\n",
    "    except OSError as e:\n",
    "        print(\"client connect error\", [e])\n",
    "        machine.reset()\n",
    "        return\n",
    "    \n",
    "    ipnumber = client._sta_if.ifconfig()[0]\n",
    "    print(\"connecttask connected\")\n",
    "    for i in range(19):\n",
    "        pinled.value(i%2)\n",
    "        await asyncio.sleep_ms(100)\n",
    "    n = 0\n",
    "    while True:\n",
    "        print(\"connecttask loop\", n, client.isconnected())\n",
    "        n += 1\n",
    "        if client.isconnected():\n",
    "            await client.publish(topicstatus, \"on %d\"%n, retain=True)\n",
    "        await asyncio.sleep_ms(3000)\n",
    "\n",
    "config['server'] = fconfig[\"mqttbroker\"]\n",
    "config['ssid'] = fconfig[\"wifiname\"]\n",
    "config['wifi_pw'] = fconfig[\"wifipassword\"]\n",
    "config['mqttchannel'] = boardname\n",
    "config['connect_coro'] = onconnecttask\n",
    "config['will'] = [ topicstatus, \"dropped\", True]\n",
    "  \n",
    "client = MQTTClient(config)\n",
    "aloop = asyncio.get_event_loop()\n",
    "aloop.create_task(connecttask())\n",
    "aloop.create_task(serialtask())\n",
    "aloop.run_forever()\n",
    "\n"
   ]
  },
  {
   "cell_type": "code",
   "execution_count": null,
   "metadata": {},
   "outputs": [],
   "source": [
    "\n",
    "\n",
    "\n"
   ]
  }
 ],
 "metadata": {
  "kernelspec": {
   "display_name": "MicroPython - USB",
   "language": "micropython",
   "name": "micropython"
  },
  "language_info": {
   "codemirror_mode": "python",
   "file_extension": ".py",
   "mimetype": "text/python",
   "name": "micropython"
  }
 },
 "nbformat": 4,
 "nbformat_minor": 2
}
